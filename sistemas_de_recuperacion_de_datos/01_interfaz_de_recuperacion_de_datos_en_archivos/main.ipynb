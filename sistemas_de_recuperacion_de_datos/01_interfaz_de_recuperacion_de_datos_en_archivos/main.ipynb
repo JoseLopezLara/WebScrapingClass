{
 "cells": [
  {
   "cell_type": "code",
   "execution_count": 1,
   "metadata": {},
   "outputs": [
    {
     "name": "stdout",
     "output_type": "stream",
     "text": [
      "Users in database:\n",
      "Username: José, Age: 10\n",
      "Username: Iván, Age: 20\n",
      "Username: Israel, Age: 30\n",
      "Username: Leticia, Age: 40\n",
      "Username: José Antonio, Age: 50\n",
      "Username: Ulises, Age: 60\n",
      "Username: Adrian, Age: 70\n",
      "Username: Ricardo, Age: 80\n",
      "Username: Salvador, Age: 90\n",
      "Username: Fernando, Age: 100\n"
     ]
    }
   ],
   "source": [
    "import shelve\n",
    "\n",
    "def save_user_data(username: str, age: int) -> None:\n",
    "    \"\"\"Save user data to shelve database\"\"\"\n",
    "    with shelve.open('users_db') as db:\n",
    "        db[username] = age\n",
    "        \n",
    "def display_users() -> None:\n",
    "    \"\"\"Read and display all users from database\"\"\"\n",
    "    try:\n",
    "        with shelve.open('users_db') as db:\n",
    "            if len(db) == 0:\n",
    "                print(\"No users found in database\")\n",
    "                return\n",
    "            \n",
    "            print(\"Users in database:\")\n",
    "            for username, age in db.items():\n",
    "                print(f\"Username: {username}, Age: {age}\")\n",
    "    except Exception as e:\n",
    "        print(f\"Error reading database: {e}\")\n",
    "\n",
    "# Example usage\n",
    "if __name__ == \"__main__\":\n",
    "    save_user_data(\"José\", 10)\n",
    "    save_user_data(\"Iván\", 20)\n",
    "    save_user_data(\"Israel\", 30)\n",
    "    save_user_data(\"Leticia\", 40)\n",
    "    save_user_data(\"José Antonio\", 50)\n",
    "    save_user_data(\"Ulises\", 60)\n",
    "    save_user_data(\"Adrian\", 70)\n",
    "    save_user_data(\"Ricardo\", 80)\n",
    "    save_user_data(\"Salvador\", 90)\n",
    "    save_user_data(\"Fernando\", 100)\n",
    "    \n",
    "    display_users()"
   ]
  }
 ],
 "metadata": {
  "kernelspec": {
   "display_name": "Python 3",
   "language": "python",
   "name": "python3"
  },
  "language_info": {
   "codemirror_mode": {
    "name": "ipython",
    "version": 3
   },
   "file_extension": ".py",
   "mimetype": "text/x-python",
   "name": "python",
   "nbconvert_exporter": "python",
   "pygments_lexer": "ipython3",
   "version": "3.12.4"
  }
 },
 "nbformat": 4,
 "nbformat_minor": 2
}
